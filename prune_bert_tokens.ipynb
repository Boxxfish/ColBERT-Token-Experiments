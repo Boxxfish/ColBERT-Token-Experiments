{
 "cells": [
  {
   "cell_type": "code",
   "execution_count": 1,
   "metadata": {},
   "outputs": [
    {
     "name": "stderr",
     "output_type": "stream",
     "text": [
      "PyTerrier 0.9.2 has loaded Terrier 5.7 (built by craigm on 2022-11-10 18:30) and terrier-helper 0.0.7\n",
      "\n",
      "No etc/terrier.properties, using terrier.default.properties for bootstrap configuration.\n",
      "/home/stu1/s8/gfp4857/miniconda3/envs/project/lib/python3.11/site-packages/tqdm/auto.py:21: TqdmWarning: IProgress not found. Please update jupyter and ipywidgets. See https://ipywidgets.readthedocs.io/en/stable/user_install.html\n",
      "  from .autonotebook import tqdm as notebook_tqdm\n",
      "Some weights of the model checkpoint at bert-base-uncased were not used when initializing ColBERT: ['cls.predictions.decoder.weight', 'cls.seq_relationship.weight', 'cls.predictions.transform.dense.bias', 'cls.predictions.transform.dense.weight', 'cls.predictions.bias', 'cls.seq_relationship.bias', 'cls.predictions.transform.LayerNorm.bias', 'cls.predictions.transform.LayerNorm.weight']\n",
      "- This IS expected if you are initializing ColBERT from the checkpoint of a model trained on another task or with another architecture (e.g. initializing a BertForSequenceClassification model from a BertForPreTraining model).\n",
      "- This IS NOT expected if you are initializing ColBERT from the checkpoint of a model that you expect to be exactly identical (initializing a BertForSequenceClassification model from a BertForSequenceClassification model).\n",
      "Some weights of ColBERT were not initialized from the model checkpoint at bert-base-uncased and are newly initialized: ['linear.weight']\n",
      "You should probably TRAIN this model on a down-stream task to be able to use it for predictions and inference.\n"
     ]
    },
    {
     "name": "stdout",
     "output_type": "stream",
     "text": [
      "[May 06, 15:58:21] #> Loading model checkpoint.\n",
      "[May 06, 15:58:21] #> Loading checkpoint http://www.dcs.gla.ac.uk/~craigm/ecir2021-tutorial/colbert_model_checkpoint.zip\n"
     ]
    },
    {
     "name": "stderr",
     "output_type": "stream",
     "text": [
      "/home/stu1/s8/gfp4857/miniconda3/envs/project/lib/python3.11/site-packages/torch/hub.py:665: UserWarning: Falling back to the old format < 1.6. This support will be deprecated in favor of default zipfile format introduced in 1.6. Please redo torch.save() to save it in the new zipfile format.\n",
      "  warnings.warn('Falling back to the old format < 1.6. This support will be '\n"
     ]
    },
    {
     "name": "stdout",
     "output_type": "stream",
     "text": [
      "[May 06, 15:58:50] #> checkpoint['epoch'] = 0\n",
      "[May 06, 15:58:50] #> checkpoint['batch'] = 44500\n"
     ]
    }
   ],
   "source": [
    "import pyterrier as pt\n",
    "if not pt.started():\n",
    "    pt.init()\n",
    "\n",
    "from pyterrier_colbert.ranking import ColBERTFactory\n",
    "pytcolbert = ColBERTFactory(\"http://www.dcs.gla.ac.uk/~craigm/ecir2021-tutorial/colbert_model_checkpoint.zip\", \"./msmarco_index\", \"msmarco\", gpu=True)\n",
    "\n",
    "msmarco_ds = pt.get_dataset(\"msmarco_passage\")\n",
    "\n",
    "# Get list \n",
    "qids = list(msmarco_ds.get_qrels(\"dev\").loc[msmarco_ds.get_qrels(\"dev\")['docno'].astype(int) < 100000]['qid'])"
   ]
  },
  {
   "cell_type": "code",
   "execution_count": 18,
   "metadata": {},
   "outputs": [
    {
     "name": "stdout",
     "output_type": "stream",
     "text": [
      "[CLS] 101\n",
      "[SEP] 102\n",
      "[D] 2\n",
      "[UNK] 100\n"
     ]
    },
    {
     "data": {
      "text/plain": [
       "['[CLS]', '[SEP]', '[D]', '[UNK]']"
      ]
     },
     "execution_count": 18,
     "metadata": {},
     "output_type": "execute_result"
    }
   ],
   "source": [
    "ids = pytcolbert.unique_token_ids\n",
    "\n",
    "bert_ids = []\n",
    "for id, tok in zip(ids, pytcolbert.token_ids_to_strings(ids)):\n",
    "    if tok.startswith('[') and tok.endswith(']'):\n",
    "        print(tok, id)\n",
    "        bert_ids += [id]\n",
    "pytcolbert.token_ids_to_strings(bert_ids)"
   ]
  },
  {
   "cell_type": "code",
   "execution_count": 15,
   "metadata": {},
   "outputs": [
    {
     "name": "stdout",
     "output_type": "stream",
     "text": [
      "DEBUG>>> token_ids_to_prune=[101, 102, 2, 100]\n",
      "DEBUG>>> vectors_ids_to_prune=array([      0,       1,      55, ..., 7409270, 7409271, 7409336])\n",
      "DEBUG>>> pre-remove: 7409337\n",
      "DEBUG>>> post-remove: 7108562\n"
     ]
    },
    {
     "data": {
      "text/html": [
       "<div>\n",
       "<style scoped>\n",
       "    .dataframe tbody tr th:only-of-type {\n",
       "        vertical-align: middle;\n",
       "    }\n",
       "\n",
       "    .dataframe tbody tr th {\n",
       "        vertical-align: top;\n",
       "    }\n",
       "\n",
       "    .dataframe thead th {\n",
       "        text-align: right;\n",
       "    }\n",
       "</style>\n",
       "<table border=\"1\" class=\"dataframe\">\n",
       "  <thead>\n",
       "    <tr style=\"text-align: right;\">\n",
       "      <th></th>\n",
       "      <th>name</th>\n",
       "      <th>map</th>\n",
       "      <th>RR@10</th>\n",
       "      <th>map +</th>\n",
       "      <th>map -</th>\n",
       "      <th>map p-value</th>\n",
       "      <th>RR@10 +</th>\n",
       "      <th>RR@10 -</th>\n",
       "      <th>RR@10 p-value</th>\n",
       "    </tr>\n",
       "  </thead>\n",
       "  <tbody>\n",
       "    <tr>\n",
       "      <th>0</th>\n",
       "      <td>No Pruning</td>\n",
       "      <td>0.481221</td>\n",
       "      <td>0.507304</td>\n",
       "      <td>NaN</td>\n",
       "      <td>NaN</td>\n",
       "      <td>NaN</td>\n",
       "      <td>NaN</td>\n",
       "      <td>NaN</td>\n",
       "      <td>NaN</td>\n",
       "    </tr>\n",
       "    <tr>\n",
       "      <th>1</th>\n",
       "      <td>BERT Tokens Pruned</td>\n",
       "      <td>0.480934</td>\n",
       "      <td>0.507612</td>\n",
       "      <td>22.0</td>\n",
       "      <td>13.0</td>\n",
       "      <td>0.943562</td>\n",
       "      <td>10.0</td>\n",
       "      <td>10.0</td>\n",
       "      <td>0.944659</td>\n",
       "    </tr>\n",
       "  </tbody>\n",
       "</table>\n",
       "</div>"
      ],
      "text/plain": [
       "                 name       map     RR@10  map +  map -  map p-value  RR@10 +   \n",
       "0          No Pruning  0.481221  0.507304    NaN    NaN          NaN      NaN  \\\n",
       "1  BERT Tokens Pruned  0.480934  0.507612   22.0   13.0     0.943562     10.0   \n",
       "\n",
       "   RR@10 -  RR@10 p-value  \n",
       "0      NaN            NaN  \n",
       "1     10.0       0.944659  "
      ]
     },
     "execution_count": 15,
     "metadata": {},
     "output_type": "execute_result"
    }
   ],
   "source": [
    "from ir_measures import RR\n",
    "\n",
    "dense_e2e = pytcolbert.end_to_end()\n",
    "dense_e2e_bert_pruned = pytcolbert.end_to_end(bert_ids)\n",
    "\n",
    "pt.Experiment(\n",
    "    [dense_e2e, dense_e2e_bert_pruned],\n",
    "    msmarco_ds.get_topics(\"dev\").loc[msmarco_ds.get_topics(\"dev\")['qid'].str.contains('|'.join(qids), na=False)],\n",
    "    msmarco_ds.get_qrels(\"dev\"),\n",
    "    eval_metrics=[\"map\", RR@10],\n",
    "    baseline=0,\n",
    "    names=[\"No Pruning\", \"BERT Tokens Pruned\"]\n",
    ")"
   ]
  },
  {
   "cell_type": "code",
   "execution_count": 20,
   "metadata": {},
   "outputs": [
    {
     "name": "stdout",
     "output_type": "stream",
     "text": [
      "DEBUG>>> token_ids_to_prune=[101, 102]\n",
      "DEBUG>>> vectors_ids_to_prune=array([      0,      55,      56, ..., 7409269, 7409270, 7409336])\n",
      "DEBUG>>> pre-remove: 7409337\n",
      "DEBUG>>> post-remove: 7209337\n"
     ]
    },
    {
     "data": {
      "text/html": [
       "<div>\n",
       "<style scoped>\n",
       "    .dataframe tbody tr th:only-of-type {\n",
       "        vertical-align: middle;\n",
       "    }\n",
       "\n",
       "    .dataframe tbody tr th {\n",
       "        vertical-align: top;\n",
       "    }\n",
       "\n",
       "    .dataframe thead th {\n",
       "        text-align: right;\n",
       "    }\n",
       "</style>\n",
       "<table border=\"1\" class=\"dataframe\">\n",
       "  <thead>\n",
       "    <tr style=\"text-align: right;\">\n",
       "      <th></th>\n",
       "      <th>name</th>\n",
       "      <th>map</th>\n",
       "      <th>RR@10</th>\n",
       "      <th>map +</th>\n",
       "      <th>map -</th>\n",
       "      <th>map p-value</th>\n",
       "      <th>RR@10 +</th>\n",
       "      <th>RR@10 -</th>\n",
       "      <th>RR@10 p-value</th>\n",
       "    </tr>\n",
       "  </thead>\n",
       "  <tbody>\n",
       "    <tr>\n",
       "      <th>0</th>\n",
       "      <td>No Pruning</td>\n",
       "      <td>0.481221</td>\n",
       "      <td>0.507304</td>\n",
       "      <td>NaN</td>\n",
       "      <td>NaN</td>\n",
       "      <td>NaN</td>\n",
       "      <td>NaN</td>\n",
       "      <td>NaN</td>\n",
       "      <td>NaN</td>\n",
       "    </tr>\n",
       "    <tr>\n",
       "      <th>1</th>\n",
       "      <td>BERT Tokens Pruned</td>\n",
       "      <td>0.483088</td>\n",
       "      <td>0.509125</td>\n",
       "      <td>13.0</td>\n",
       "      <td>11.0</td>\n",
       "      <td>0.380305</td>\n",
       "      <td>6.0</td>\n",
       "      <td>7.0</td>\n",
       "      <td>0.418388</td>\n",
       "    </tr>\n",
       "  </tbody>\n",
       "</table>\n",
       "</div>"
      ],
      "text/plain": [
       "                 name       map     RR@10  map +  map -  map p-value  RR@10 +   \n",
       "0          No Pruning  0.481221  0.507304    NaN    NaN          NaN      NaN  \\\n",
       "1  BERT Tokens Pruned  0.483088  0.509125   13.0   11.0     0.380305      6.0   \n",
       "\n",
       "   RR@10 -  RR@10 p-value  \n",
       "0      NaN            NaN  \n",
       "1      7.0       0.418388  "
      ]
     },
     "execution_count": 20,
     "metadata": {},
     "output_type": "execute_result"
    }
   ],
   "source": [
    "from ir_measures import RR\n",
    "\n",
    "bert_ids = [101, 102]\n",
    "\n",
    "dense_e2e = pytcolbert.end_to_end()\n",
    "dense_e2e_bert_pruned = pytcolbert.end_to_end(bert_ids)\n",
    "\n",
    "pt.Experiment(\n",
    "    [dense_e2e, dense_e2e_bert_pruned],\n",
    "    msmarco_ds.get_topics(\"dev\").loc[msmarco_ds.get_topics(\"dev\")['qid'].str.contains('|'.join(qids), na=False)],\n",
    "    msmarco_ds.get_qrels(\"dev\"),\n",
    "    eval_metrics=[\"map\", RR@10],\n",
    "    baseline=0,\n",
    "    names=[\"No Pruning\", \"BERT Tokens Pruned\"]\n",
    ")"
   ]
  },
  {
   "cell_type": "code",
   "execution_count": 21,
   "metadata": {},
   "outputs": [
    {
     "name": "stdout",
     "output_type": "stream",
     "text": [
      "DEBUG>>> token_ids_to_prune={101, 102, 1996, 1997, 1998, 1037, 2000, 1999, 1010, 1012}\n",
      "DEBUG>>> vectors_ids_to_prune=array([      0,       2,       4, ..., 7409331, 7409335, 7409336])\n",
      "DEBUG>>> pre-remove: 7409337\n",
      "DEBUG>>> post-remove: 5546301\n"
     ]
    },
    {
     "data": {
      "text/html": [
       "<div>\n",
       "<style scoped>\n",
       "    .dataframe tbody tr th:only-of-type {\n",
       "        vertical-align: middle;\n",
       "    }\n",
       "\n",
       "    .dataframe tbody tr th {\n",
       "        vertical-align: top;\n",
       "    }\n",
       "\n",
       "    .dataframe thead th {\n",
       "        text-align: right;\n",
       "    }\n",
       "</style>\n",
       "<table border=\"1\" class=\"dataframe\">\n",
       "  <thead>\n",
       "    <tr style=\"text-align: right;\">\n",
       "      <th></th>\n",
       "      <th>name</th>\n",
       "      <th>map</th>\n",
       "      <th>RR@10</th>\n",
       "      <th>map +</th>\n",
       "      <th>map -</th>\n",
       "      <th>map p-value</th>\n",
       "      <th>RR@10 +</th>\n",
       "      <th>RR@10 -</th>\n",
       "      <th>RR@10 p-value</th>\n",
       "    </tr>\n",
       "  </thead>\n",
       "  <tbody>\n",
       "    <tr>\n",
       "      <th>0</th>\n",
       "      <td>No Pruning</td>\n",
       "      <td>0.481221</td>\n",
       "      <td>0.507304</td>\n",
       "      <td>NaN</td>\n",
       "      <td>NaN</td>\n",
       "      <td>NaN</td>\n",
       "      <td>NaN</td>\n",
       "      <td>NaN</td>\n",
       "      <td>NaN</td>\n",
       "    </tr>\n",
       "    <tr>\n",
       "      <th>1</th>\n",
       "      <td>25% Pruning</td>\n",
       "      <td>0.487362</td>\n",
       "      <td>0.515169</td>\n",
       "      <td>26.0</td>\n",
       "      <td>33.0</td>\n",
       "      <td>0.204736</td>\n",
       "      <td>17.0</td>\n",
       "      <td>23.0</td>\n",
       "      <td>0.169815</td>\n",
       "    </tr>\n",
       "  </tbody>\n",
       "</table>\n",
       "</div>"
      ],
      "text/plain": [
       "          name       map     RR@10  map +  map -  map p-value  RR@10 +   \n",
       "0   No Pruning  0.481221  0.507304    NaN    NaN          NaN      NaN  \\\n",
       "1  25% Pruning  0.487362  0.515169   26.0   33.0     0.204736     17.0   \n",
       "\n",
       "   RR@10 -  RR@10 p-value  \n",
       "0      NaN            NaN  \n",
       "1     23.0       0.169815  "
      ]
     },
     "execution_count": 21,
     "metadata": {},
     "output_type": "execute_result"
    }
   ],
   "source": [
    "from ir_measures import RR\n",
    "\n",
    "dense_e2e = pytcolbert.end_to_end()\n",
    "\n",
    "token_ids_p25 = pytcolbert.top_p_tokens(0.25)\n",
    "dense_e2e_p25 = pytcolbert.end_to_end(token_ids_p25)\n",
    "\n",
    "pt.Experiment(\n",
    "    [dense_e2e, dense_e2e_p25],\n",
    "    msmarco_ds.get_topics(\"dev\").loc[msmarco_ds.get_topics(\"dev\")['qid'].str.contains('|'.join(qids), na=False)],\n",
    "    msmarco_ds.get_qrels(\"dev\"),\n",
    "    eval_metrics=[\"map\", RR@10],\n",
    "    baseline=0,\n",
    "    names=[\"No Pruning\", \"25% Pruning\"]\n",
    ")"
   ]
  }
 ],
 "metadata": {
  "kernelspec": {
   "display_name": "project",
   "language": "python",
   "name": "python3"
  },
  "language_info": {
   "codemirror_mode": {
    "name": "ipython",
    "version": 3
   },
   "file_extension": ".py",
   "mimetype": "text/x-python",
   "name": "python",
   "nbconvert_exporter": "python",
   "pygments_lexer": "ipython3",
   "version": "3.11.3"
  },
  "orig_nbformat": 4
 },
 "nbformat": 4,
 "nbformat_minor": 2
}
