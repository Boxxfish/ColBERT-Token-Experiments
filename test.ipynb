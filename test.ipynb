{
 "cells": [
  {
   "cell_type": "code",
   "execution_count": 1,
   "metadata": {},
   "outputs": [
    {
     "name": "stderr",
     "output_type": "stream",
     "text": [
      "PyTerrier 0.9.2 has loaded Terrier 5.7 (built by craigm on 2022-11-10 18:30) and terrier-helper 0.0.7\n",
      "\n",
      "No etc/terrier.properties, using terrier.default.properties for bootstrap configuration.\n"
     ]
    }
   ],
   "source": [
    "import pyterrier as pt\n",
    "if not pt.started():\n",
    "    pt.init()"
   ]
  },
  {
   "cell_type": "code",
   "execution_count": 2,
   "metadata": {},
   "outputs": [
    {
     "name": "stderr",
     "output_type": "stream",
     "text": [
      "/home/stu1/s8/gfp4857/miniconda3/envs/project/lib/python3.11/site-packages/tqdm/auto.py:21: TqdmWarning: IProgress not found. Please update jupyter and ipywidgets. See https://ipywidgets.readthedocs.io/en/stable/user_install.html\n",
      "  from .autonotebook import tqdm as notebook_tqdm\n",
      "Some weights of the model checkpoint at bert-base-uncased were not used when initializing ColBERT: ['cls.seq_relationship.weight', 'cls.predictions.transform.LayerNorm.weight', 'cls.seq_relationship.bias', 'cls.predictions.bias', 'cls.predictions.transform.dense.weight', 'cls.predictions.transform.dense.bias', 'cls.predictions.decoder.weight', 'cls.predictions.transform.LayerNorm.bias']\n",
      "- This IS expected if you are initializing ColBERT from the checkpoint of a model trained on another task or with another architecture (e.g. initializing a BertForSequenceClassification model from a BertForPreTraining model).\n",
      "- This IS NOT expected if you are initializing ColBERT from the checkpoint of a model that you expect to be exactly identical (initializing a BertForSequenceClassification model from a BertForSequenceClassification model).\n",
      "Some weights of ColBERT were not initialized from the model checkpoint at bert-base-uncased and are newly initialized: ['linear.weight']\n",
      "You should probably TRAIN this model on a down-stream task to be able to use it for predictions and inference.\n"
     ]
    },
    {
     "name": "stdout",
     "output_type": "stream",
     "text": [
      "[May 05, 11:32:04] #> Loading model checkpoint.\n",
      "[May 05, 11:32:04] #> Loading checkpoint http://www.dcs.gla.ac.uk/~craigm/ecir2021-tutorial/colbert_model_checkpoint.zip\n"
     ]
    },
    {
     "name": "stderr",
     "output_type": "stream",
     "text": [
      "/home/stu1/s8/gfp4857/miniconda3/envs/project/lib/python3.11/site-packages/torch/hub.py:665: UserWarning: Falling back to the old format < 1.6. This support will be deprecated in favor of default zipfile format introduced in 1.6. Please redo torch.save() to save it in the new zipfile format.\n",
      "  warnings.warn('Falling back to the old format < 1.6. This support will be '\n"
     ]
    },
    {
     "name": "stdout",
     "output_type": "stream",
     "text": [
      "[May 05, 11:32:38] #> checkpoint['epoch'] = 0\n",
      "[May 05, 11:32:38] #> checkpoint['batch'] = 44500\n"
     ]
    }
   ],
   "source": [
    "from pyterrier_colbert.ranking import ColBERTFactory\n",
    "pytcolbert = ColBERTFactory(\"http://www.dcs.gla.ac.uk/~craigm/ecir2021-tutorial/colbert_model_checkpoint.zip\", \"./msmarco_index\", \"msmarco\", gpu=True)"
   ]
  },
  {
   "cell_type": "code",
   "execution_count": 4,
   "metadata": {},
   "outputs": [],
   "source": [
    "msmarco_ds = pt.get_dataset(\"msmarco_passage\")\n",
    "\n",
    "# Get list \n",
    "qids = list(msmarco_ds.get_qrels(\"dev\").loc[msmarco_ds.get_qrels(\"dev\")['docno'].astype(int) < 100000]['qid'])"
   ]
  },
  {
   "cell_type": "code",
   "execution_count": 3,
   "metadata": {},
   "outputs": [
    {
     "name": "stdout",
     "output_type": "stream",
     "text": [
      "[May 04, 20:18:29] #> Loading the FAISS index from ./msmarco_index/msmarco/ivfpq.faiss ..\n",
      "[May 04, 20:18:29] #> Building the emb2pid mapping..\n",
      "[May 04, 20:18:29] len(self.emb2pid) = 7409337\n",
      "DEBUG>>> token_ids_to_prune={1012}\n",
      "Loading reranking index, memtype=mem\n"
     ]
    },
    {
     "name": "stderr",
     "output_type": "stream",
     "text": [
      "Loading index shards to memory: 100%|██████████| 1/1 [00:00<00:00,  1.87shard/s]\n"
     ]
    },
    {
     "name": "stdout",
     "output_type": "stream",
     "text": [
      "DEBUG>>> vectors_ids_to_prune=array([     23,      54,      73, ..., 7409299, 7409331, 7409335])\n",
      "DEBUG>>> pre-remove: 7409337\n",
      "DEBUG>>> post-remove: 7024102\n",
      "p=0.0\n",
      "              name       map    RR@10\n",
      "0  ColBERT (p=0.0)  0.480662  0.50672\n",
      "DEBUG>>> token_ids_to_prune={1012}\n",
      "DEBUG>>> vectors_ids_to_prune=array([     23,      54,      73, ..., 7409299, 7409331, 7409335])\n",
      "DEBUG>>> pre-remove: 7409337\n",
      "DEBUG>>> post-remove: 7024102\n",
      "p=0.05\n",
      "               name       map    RR@10\n",
      "0  ColBERT (p=0.05)  0.480662  0.50672\n",
      "DEBUG>>> token_ids_to_prune={1010, 1996, 1012}\n",
      "DEBUG>>> vectors_ids_to_prune=array([      2,      13,      16, ..., 7409326, 7409331, 7409335])\n",
      "DEBUG>>> pre-remove: 7409337\n",
      "DEBUG>>> post-remove: 6425895\n",
      "p=0.1\n",
      "              name       map     RR@10\n",
      "0  ColBERT (p=0.1)  0.480598  0.506185\n",
      "DEBUG>>> token_ids_to_prune={1010, 1996, 1012, 1997}\n",
      "DEBUG>>> vectors_ids_to_prune=array([      2,       4,      13, ..., 7409328, 7409331, 7409335])\n",
      "DEBUG>>> pre-remove: 7409337\n",
      "DEBUG>>> post-remove: 6262190\n",
      "p=0.15000000000000002\n",
      "                              name       map     RR@10\n",
      "0  ColBERT (p=0.15000000000000002)  0.480459  0.506023\n",
      "DEBUG>>> token_ids_to_prune={1996, 1997, 1998, 1037, 2000, 1010, 1012}\n",
      "DEBUG>>> vectors_ids_to_prune=array([      2,       4,      12, ..., 7409328, 7409331, 7409335])\n",
      "DEBUG>>> pre-remove: 7409337\n",
      "DEBUG>>> post-remove: 5854793\n",
      "p=0.2\n",
      "              name     map     RR@10\n",
      "0  ColBERT (p=0.2)  0.4805  0.506372\n",
      "DEBUG>>> token_ids_to_prune={101, 102, 1996, 1997, 1998, 1037, 2000, 1999, 1010, 1012}\n",
      "DEBUG>>> vectors_ids_to_prune=array([      0,       2,       4, ..., 7409331, 7409335, 7409336])\n",
      "DEBUG>>> pre-remove: 7409337\n",
      "DEBUG>>> post-remove: 5546301\n",
      "p=0.25\n",
      "               name       map     RR@10\n",
      "0  ColBERT (p=0.25)  0.487362  0.515169\n",
      "DEBUG>>> token_ids_to_prune={2, 101, 102, 1996, 1997, 1998, 1037, 2000, 1999, 1010, 2003, 1012, 1011, 2005, 1007}\n",
      "DEBUG>>> vectors_ids_to_prune=array([      0,       1,       2, ..., 7409331, 7409335, 7409336])\n",
      "DEBUG>>> pre-remove: 7409337\n",
      "DEBUG>>> post-remove: 5180097\n",
      "p=0.30000000000000004\n",
      "                              name       map     RR@10\n",
      "0  ColBERT (p=0.30000000000000004)  0.475224  0.501293\n",
      "DEBUG>>> token_ids_to_prune={1024, 2, 1037, 1996, 1997, 1998, 1999, 2000, 2003, 2005, 2006, 2008, 2009, 2015, 2017, 101, 102, 2024, 1005, 1006, 2030, 1007, 1010, 1011, 1012}\n",
      "DEBUG>>> vectors_ids_to_prune=array([      0,       1,       2, ..., 7409331, 7409335, 7409336])\n",
      "DEBUG>>> pre-remove: 7409337\n",
      "DEBUG>>> post-remove: 4786162\n",
      "p=0.35000000000000003\n",
      "                              name       map     RR@10\n",
      "0  ColBERT (p=0.35000000000000003)  0.472994  0.500411\n",
      "DEBUG>>> token_ids_to_prune={1024, 2, 1037, 2064, 1055, 2115, 1996, 1997, 1998, 1999, 2000, 2003, 2004, 2005, 2006, 2007, 2008, 2009, 2011, 2012, 2013, 2015, 2017, 2019, 101, 102, 2022, 2024, 2023, 1005, 1006, 2030, 1007, 1010, 1011, 1012, 1015, 1016}\n",
      "DEBUG>>> vectors_ids_to_prune=array([      0,       1,       2, ..., 7409331, 7409335, 7409336])\n",
      "DEBUG>>> pre-remove: 7409337\n",
      "DEBUG>>> post-remove: 4435268\n",
      "p=0.4\n",
      "              name       map     RR@10\n",
      "0  ColBERT (p=0.4)  0.476822  0.503949\n",
      "DEBUG>>> token_ids_to_prune={1024, 1025, 2, 2051, 1018, 2055, 2060, 1037, 2062, 2064, 2065, 2039, 1045, 1055, 1056, 2084, 2043, 2087, 2089, 2097, 2021, 2115, 1996, 1997, 1998, 1999, 2000, 2001, 2003, 2004, 2005, 2006, 2007, 2008, 2009, 2027, 2011, 2012, 2013, 2015, 2017, 2029, 2019, 101, 102, 2022, 2024, 2023, 2025, 1002, 2028, 1005, 1006, 2030, 1007, 2031, 1010, 1011, 1012, 1521, 1013, 1015, 1016, 1017, 2038, 2035, 2036, 2045}\n",
      "DEBUG>>> vectors_ids_to_prune=array([      0,       1,       2, ..., 7409331, 7409335, 7409336])\n",
      "DEBUG>>> pre-remove: 7409337\n",
      "DEBUG>>> post-remove: 4069337\n",
      "p=0.45\n",
      "               name       map     RR@10\n",
      "0  ColBERT (p=0.45)  0.476857  0.504794\n",
      "DEBUG>>> token_ids_to_prune={1024, 1025, 2, 2051, 2036, 2049, 2054, 2055, 2048, 2057, 2037, 2058, 2060, 1037, 2062, 2061, 2064, 2065, 2063, 2066, 1020, 1045, 2070, 2069, 2040, 2075, 2041, 1055, 1056, 2079, 2042, 2084, 2086, 2043, 2087, 2089, 2090, 2044, 2095, 2097, 2045, 2046, 2102, 1029, 2047, 2107, 2109, 2110, 2111, 2115, 2116, 2121, 2122, 2050, 2128, 2129, 2131, 1035, 2053, 101, 102, 2151, 2154, 2156, 2566, 2163, 2059, 2171, 2184, 2191, 2193, 2199, 2224, 2256, 2300, 2026, 1523, 1003, 1524, 1996, 1997, 1998, 1999, 2000, 2001, 2002, 2003, 2004, 2005, 2006, 2007, 2008, 2009, 1016, 2011, 2012, 2013, 2010, 2015, 2017, 2019, 2021, 2022, 2023, 2024, 2025, 1002, 2027, 2028, 2029, 1005, 1006, 2030, 1007, 2034, 2031, 1010, 1011, 1012, 2039, 1521, 1013, 1018, 1019, 1015, 1017, 2038, 2035}\n",
      "DEBUG>>> vectors_ids_to_prune=array([      0,       1,       2, ..., 7409333, 7409335, 7409336])\n",
      "DEBUG>>> pre-remove: 7409337\n",
      "DEBUG>>> post-remove: 3701713\n",
      "p=0.5\n",
      "              name       map     RR@10\n",
      "0  ColBERT (p=0.5)  0.463068  0.492068\n"
     ]
    }
   ],
   "source": [
    "import numpy as np\n",
    "from ir_measures import RR\n",
    "\n",
    "results = []\n",
    "\n",
    "for p in np.arange(0.0, 0.51, 0.05):\n",
    "    token_ids = pytcolbert.top_p_tokens(p)\n",
    "    dense_e2e = pytcolbert.end_to_end(token_ids)\n",
    "\n",
    "\n",
    "    print(f\"{p=}\")\n",
    "    results += [pt.Experiment(\n",
    "        [dense_e2e],\n",
    "        msmarco_ds.get_topics(\"dev\").loc[msmarco_ds.get_topics(\"dev\")['qid'].str.contains('|'.join(qids), na=False)],\n",
    "        msmarco_ds.get_qrels(\"dev\"),\n",
    "        eval_metrics=[\"map\", RR@10],\n",
    "        names=[f\"ColBERT ({p=})\"]\n",
    "    )]\n",
    "\n",
    "    print(results[-1])\n",
    "\n",
    "    del dense_e2e"
   ]
  },
  {
   "cell_type": "code",
   "execution_count": 6,
   "metadata": {},
   "outputs": [
    {
     "name": "stdout",
     "output_type": "stream",
     "text": [
      "              name       map    RR@10\n",
      "0  ColBERT (p=0.0)  0.480662  0.50672\n",
      "               name       map    RR@10\n",
      "0  ColBERT (p=0.05)  0.480662  0.50672\n",
      "              name       map     RR@10\n",
      "0  ColBERT (p=0.1)  0.480598  0.506185\n",
      "                              name       map     RR@10\n",
      "0  ColBERT (p=0.15000000000000002)  0.480459  0.506023\n",
      "              name     map     RR@10\n",
      "0  ColBERT (p=0.2)  0.4805  0.506372\n",
      "               name       map     RR@10\n",
      "0  ColBERT (p=0.25)  0.487362  0.515169\n",
      "                              name       map     RR@10\n",
      "0  ColBERT (p=0.30000000000000004)  0.475224  0.501293\n",
      "                              name       map     RR@10\n",
      "0  ColBERT (p=0.35000000000000003)  0.472994  0.500411\n",
      "              name       map     RR@10\n",
      "0  ColBERT (p=0.4)  0.476822  0.503949\n",
      "               name       map     RR@10\n",
      "0  ColBERT (p=0.45)  0.476857  0.504794\n",
      "              name       map     RR@10\n",
      "0  ColBERT (p=0.5)  0.463068  0.492068\n"
     ]
    }
   ],
   "source": [
    "for r in results:\n",
    "    print(r)"
   ]
  },
  {
   "cell_type": "code",
   "execution_count": 10,
   "metadata": {},
   "outputs": [
    {
     "name": "stdout",
     "output_type": "stream",
     "text": [
      "DEBUG>>> token_ids_to_prune={1024, 1025, 2, 2051, 2036, 2049, 2054, 2055, 2048, 2057, 2037, 2058, 2060, 1037, 2062, 2061, 2064, 2065, 2063, 2066, 1020, 1045, 2070, 2069, 2040, 2075, 2041, 1055, 1056, 2079, 2042, 2084, 2086, 2043, 2087, 2089, 2090, 2044, 2095, 2097, 2045, 2046, 2102, 1029, 2047, 2107, 2109, 2110, 2111, 2115, 2116, 2121, 2122, 2050, 2128, 2129, 2131, 1035, 2053, 101, 102, 2151, 2154, 2156, 2566, 2163, 2059, 2171, 2184, 2191, 2193, 2199, 2224, 2256, 2300, 2026, 1523, 1003, 1524, 1996, 1997, 1998, 1999, 2000, 2001, 2002, 2003, 2004, 2005, 2006, 2007, 2008, 2009, 1016, 2011, 2012, 2013, 2010, 2015, 2017, 2019, 2021, 2022, 2023, 2024, 2025, 1002, 2027, 2028, 2029, 1005, 1006, 2030, 1007, 2034, 2031, 1010, 1011, 1012, 2039, 1521, 1013, 1018, 1019, 1015, 1017, 2038, 2035}\n",
      "DEBUG>>> vectors_ids_to_prune=array([      0,       1,       2, ..., 7409333, 7409335, 7409336])\n",
      "DEBUG>>> pre-remove: 7409337\n",
      "DEBUG>>> post-remove: 3701713\n"
     ]
    },
    {
     "data": {
      "text/html": [
       "<div>\n",
       "<style scoped>\n",
       "    .dataframe tbody tr th:only-of-type {\n",
       "        vertical-align: middle;\n",
       "    }\n",
       "\n",
       "    .dataframe tbody tr th {\n",
       "        vertical-align: top;\n",
       "    }\n",
       "\n",
       "    .dataframe thead th {\n",
       "        text-align: right;\n",
       "    }\n",
       "</style>\n",
       "<table border=\"1\" class=\"dataframe\">\n",
       "  <thead>\n",
       "    <tr style=\"text-align: right;\">\n",
       "      <th></th>\n",
       "      <th>name</th>\n",
       "      <th>map</th>\n",
       "      <th>RR@10</th>\n",
       "      <th>map +</th>\n",
       "      <th>map -</th>\n",
       "      <th>map p-value</th>\n",
       "      <th>RR@10 +</th>\n",
       "      <th>RR@10 -</th>\n",
       "      <th>RR@10 p-value</th>\n",
       "    </tr>\n",
       "  </thead>\n",
       "  <tbody>\n",
       "    <tr>\n",
       "      <th>0</th>\n",
       "      <td>p=0.0</td>\n",
       "      <td>0.481221</td>\n",
       "      <td>0.507304</td>\n",
       "      <td>NaN</td>\n",
       "      <td>NaN</td>\n",
       "      <td>NaN</td>\n",
       "      <td>NaN</td>\n",
       "      <td>NaN</td>\n",
       "      <td>NaN</td>\n",
       "    </tr>\n",
       "    <tr>\n",
       "      <th>1</th>\n",
       "      <td>p=0.5</td>\n",
       "      <td>0.463068</td>\n",
       "      <td>0.492068</td>\n",
       "      <td>50.0</td>\n",
       "      <td>54.0</td>\n",
       "      <td>0.110796</td>\n",
       "      <td>40.0</td>\n",
       "      <td>41.0</td>\n",
       "      <td>0.202347</td>\n",
       "    </tr>\n",
       "  </tbody>\n",
       "</table>\n",
       "</div>"
      ],
      "text/plain": [
       "    name       map     RR@10  map +  map -  map p-value  RR@10 +  RR@10 -   \n",
       "0  p=0.0  0.481221  0.507304    NaN    NaN          NaN      NaN      NaN  \\\n",
       "1  p=0.5  0.463068  0.492068   50.0   54.0     0.110796     40.0     41.0   \n",
       "\n",
       "   RR@10 p-value  \n",
       "0            NaN  \n",
       "1       0.202347  "
      ]
     },
     "execution_count": 10,
     "metadata": {},
     "output_type": "execute_result"
    }
   ],
   "source": [
    "token_ids_p0 = pytcolbert.top_p_tokens(0)\n",
    "dense_e2e_p0 = pytcolbert.end_to_end()\n",
    "\n",
    "token_ids_p05 = pytcolbert.top_p_tokens(0.5)\n",
    "dense_e2e_p05 = pytcolbert.end_to_end(token_ids_p05)\n",
    "\n",
    "pt.Experiment(\n",
    "    [dense_e2e_p0, dense_e2e_p05],\n",
    "    msmarco_ds.get_topics(\"dev\").loc[msmarco_ds.get_topics(\"dev\")['qid'].str.contains('|'.join(qids), na=False)],\n",
    "    msmarco_ds.get_qrels(\"dev\"),\n",
    "    eval_metrics=[\"map\", RR@10],\n",
    "    baseline=0,\n",
    "    names=[\"p=0.0\", \"p=0.5\"]\n",
    ")"
   ]
  },
  {
   "cell_type": "code",
   "execution_count": 5,
   "metadata": {},
   "outputs": [
    {
     "ename": "JavaException",
     "evalue": "JVM exception occurred: No IndexLoaders were supported for indexref ./msmarco_index/msmarco; It may be your ref has the wrong location. Alternatively, Terrier is misconfigured - did you import the correct package to deal with this indexref? java.lang.UnsupportedOperationException",
     "output_type": "error",
     "traceback": [
      "\u001b[0;31m---------------------------------------------------------------------------\u001b[0m",
      "\u001b[0;31mJavaException\u001b[0m                             Traceback (most recent call last)",
      "Cell \u001b[0;32mIn[5], line 2\u001b[0m\n\u001b[1;32m      1\u001b[0m index_ref \u001b[39m=\u001b[39m pt\u001b[39m.\u001b[39mIndexRef\u001b[39m.\u001b[39mof(\u001b[39m\"\u001b[39m\u001b[39m./msmarco_index/msmarco\u001b[39m\u001b[39m\"\u001b[39m)\n\u001b[0;32m----> 2\u001b[0m index \u001b[39m=\u001b[39m pt\u001b[39m.\u001b[39mIndexFactory\u001b[39m.\u001b[39mof(index_ref)\n\u001b[1;32m      3\u001b[0m bm25 \u001b[39m=\u001b[39m pt\u001b[39m.\u001b[39mBatchRetrieve(index, wmodel\u001b[39m=\u001b[39m\u001b[39m\"\u001b[39m\u001b[39mBM25\u001b[39m\u001b[39m\"\u001b[39m)\n\u001b[1;32m      5\u001b[0m pt\u001b[39m.\u001b[39mExperiment(\n\u001b[1;32m      6\u001b[0m     [bm25],\n\u001b[1;32m      7\u001b[0m     msmarco_ds\u001b[39m.\u001b[39mget_topics(\u001b[39m\"\u001b[39m\u001b[39mdev\u001b[39m\u001b[39m\"\u001b[39m)\u001b[39m.\u001b[39mloc[msmarco_ds\u001b[39m.\u001b[39mget_topics(\u001b[39m\"\u001b[39m\u001b[39mdev\u001b[39m\u001b[39m\"\u001b[39m)[\u001b[39m'\u001b[39m\u001b[39mqid\u001b[39m\u001b[39m'\u001b[39m]\u001b[39m.\u001b[39mstr\u001b[39m.\u001b[39mcontains(\u001b[39m'\u001b[39m\u001b[39m|\u001b[39m\u001b[39m'\u001b[39m\u001b[39m.\u001b[39mjoin(qids), na\u001b[39m=\u001b[39m\u001b[39mFalse\u001b[39;00m)],\n\u001b[0;32m   (...)\u001b[0m\n\u001b[1;32m     10\u001b[0m     names\u001b[39m=\u001b[39m[\u001b[39m\"\u001b[39m\u001b[39mBM25\u001b[39m\u001b[39m\"\u001b[39m]\n\u001b[1;32m     11\u001b[0m )\n",
      "File \u001b[0;32mjnius/jnius_export_class.pxi:1177\u001b[0m, in \u001b[0;36mjnius.JavaMultipleMethod.__call__\u001b[0;34m()\u001b[0m\n",
      "File \u001b[0;32mjnius/jnius_export_class.pxi:884\u001b[0m, in \u001b[0;36mjnius.JavaMethod.__call__\u001b[0;34m()\u001b[0m\n",
      "File \u001b[0;32mjnius/jnius_export_class.pxi:1056\u001b[0m, in \u001b[0;36mjnius.JavaMethod.call_staticmethod\u001b[0;34m()\u001b[0m\n",
      "File \u001b[0;32mjnius/jnius_utils.pxi:91\u001b[0m, in \u001b[0;36mjnius.check_exception\u001b[0;34m()\u001b[0m\n",
      "\u001b[0;31mJavaException\u001b[0m: JVM exception occurred: No IndexLoaders were supported for indexref ./msmarco_index/msmarco; It may be your ref has the wrong location. Alternatively, Terrier is misconfigured - did you import the correct package to deal with this indexref? java.lang.UnsupportedOperationException"
     ]
    }
   ],
   "source": [
    "index_ref = pt.IndexRef.of(\"./msmarco_index/msmarco\")\n",
    "index = pt.IndexFactory.of(index_ref)\n",
    "bm25 = pt.BatchRetrieve(index, wmodel=\"BM25\")\n",
    "\n",
    "pt.Experiment(\n",
    "    [bm25],\n",
    "    msmarco_ds.get_topics(\"dev\").loc[msmarco_ds.get_topics(\"dev\")['qid'].str.contains('|'.join(qids), na=False)],\n",
    "    msmarco_ds.get_qrels(\"dev\"),\n",
    "    eval_metrics=[\"map\", RR@10],\n",
    "    names=[\"BM25\"]\n",
    ")"
   ]
  },
  {
   "cell_type": "code",
   "execution_count": null,
   "metadata": {},
   "outputs": [],
   "source": [
    "token_ids = pytcolbert.top_p_tokens(0.3)\n",
    "dense_e2e = pytcolbert.end_to_end(token_ids)"
   ]
  },
  {
   "cell_type": "code",
   "execution_count": null,
   "metadata": {},
   "outputs": [],
   "source": [
    "msmarco_ds = pt.get_dataset(\"msmarco_passage\")\n",
    "\n",
    "# Get list \n",
    "qids = list(msmarco_ds.get_qrels(\"dev\").loc[msmarco_ds.get_qrels(\"dev\")['docno'].astype(int) < 100000]['qid'])\n",
    "\n",
    "pt.Experiment(\n",
    "    [dense_e2e],\n",
    "    msmarco_ds.get_topics(\"dev\").loc[msmarco_ds.get_topics(\"dev\")['qid'].str.contains('|'.join(qids), na=False)].head(10),\n",
    "    msmarco_ds.get_qrels(\"dev\"),\n",
    "    eval_metrics=[\"map. mrr@10\"],\n",
    "    names=[\"ColBERT\"]\n",
    ")\n"
   ]
  },
  {
   "cell_type": "code",
   "execution_count": null,
   "metadata": {},
   "outputs": [],
   "source": [
    "result = dense_e2e.search(\"cost of endless pools swim spa\")"
   ]
  },
  {
   "cell_type": "code",
   "execution_count": null,
   "metadata": {},
   "outputs": [],
   "source": [
    "dense_e2e.search(\"what is pcnt\")"
   ]
  }
 ],
 "metadata": {
  "kernelspec": {
   "display_name": "project",
   "language": "python",
   "name": "python3"
  },
  "language_info": {
   "codemirror_mode": {
    "name": "ipython",
    "version": 3
   },
   "file_extension": ".py",
   "mimetype": "text/x-python",
   "name": "python",
   "nbconvert_exporter": "python",
   "pygments_lexer": "ipython3",
   "version": "3.11.3"
  },
  "orig_nbformat": 4
 },
 "nbformat": 4,
 "nbformat_minor": 2
}
